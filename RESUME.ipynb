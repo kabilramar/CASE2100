{
  "nbformat": 4,
  "nbformat_minor": 0,
  "metadata": {
    "colab": {
      "provenance": [],
      "authorship_tag": "ABX9TyPMhuGY3M171GoNmdMebL90",
      "include_colab_link": true
    },
    "kernelspec": {
      "name": "python3",
      "display_name": "Python 3"
    },
    "language_info": {
      "name": "python"
    }
  },
  "cells": [
    {
      "cell_type": "markdown",
      "metadata": {
        "id": "view-in-github",
        "colab_type": "text"
      },
      "source": [
        "<a href=\"https://colab.research.google.com/github/kabilramar/CASE2100/blob/main/RESUME.ipynb\" target=\"_parent\"><img src=\"https://colab.research.google.com/assets/colab-badge.svg\" alt=\"Open In Colab\"/></a>"
      ]
    },
    {
      "cell_type": "code",
      "execution_count": 3,
      "metadata": {
        "colab": {
          "base_uri": "https://localhost:8080/"
        },
        "id": "du-p46sv7JHv",
        "outputId": "14a863c6-805c-4580-f943-82f57b104633"
      },
      "outputs": [
        {
          "output_type": "stream",
          "name": "stdout",
          "text": [
            "Requirement already satisfied: pdfminer.six in /usr/local/lib/python3.10/dist-packages (20240706)\n",
            "Requirement already satisfied: charset-normalizer>=2.0.0 in /usr/local/lib/python3.10/dist-packages (from pdfminer.six) (3.3.2)\n",
            "Requirement already satisfied: cryptography>=36.0.0 in /usr/local/lib/python3.10/dist-packages (from pdfminer.six) (43.0.1)\n",
            "Requirement already satisfied: cffi>=1.12 in /usr/local/lib/python3.10/dist-packages (from cryptography>=36.0.0->pdfminer.six) (1.17.1)\n",
            "Requirement already satisfied: pycparser in /usr/local/lib/python3.10/dist-packages (from cffi>=1.12->cryptography>=36.0.0->pdfminer.six) (2.22)\n",
            "13\n",
            "9\n",
            "Skills found: [['Python', 'SQL', 'Java', 'C', 'angular', 'JS', 'pHP', 'R', 'Go'], 13]\n",
            "Resume Score: 14.444444444444445\n"
          ]
        }
      ],
      "source": [
        "!pip install pdfminer.six\n",
        "import spacy\n",
        "nlp = spacy.load(\"en_core_web_sm\")\n",
        "\n",
        "# Import extract_text after installing pdfminer.six\n",
        "from pdfminer.high_level import extract_text\n",
        "\n",
        "def extract_resume_text(file_path):\n",
        "    text = extract_text(file_path)\n",
        "    return text\n",
        "import re\n",
        "\n",
        "def extract_skills(resume_text):\n",
        "\n",
        "    skills = ['Python', 'Machine Learning', 'Data Analysis', 'SQL', 'Java','C','power BI',\n",
        "              'Tableau','angular','JS','pHP','R','Go']\n",
        "    found_skills = []\n",
        "    n=len(skills)\n",
        "    for skill in skills:\n",
        "        if re.search(rf'\\b{skill}\\b', resume_text, re.IGNORECASE):\n",
        "            found_skills.append(skill)\n",
        "    return [found_skills,n]\n",
        "\n",
        "def rate_resume(skills_found):\n",
        "\n",
        "    values = skills_found\n",
        "    max_score = 10\n",
        "    v=values[1]\n",
        "    print(v)\n",
        "    print(len(skills_found[0]))\n",
        "    score_per_skill = v / len(skills_found[0]) if skills_found[0] else 0\n",
        "    return score_per_skill\n",
        "resume_path = 'kabil.pdf'\n",
        "resume_text = extract_resume_text(resume_path)\n",
        "skills = extract_skills(resume_text)\n",
        "resume_score = rate_resume(skills)\n",
        "\n",
        "print(\"Skills found:\", skills)\n",
        "print(\"Resume Score:\", resume_score*10)"
      ]
    }
  ]
}